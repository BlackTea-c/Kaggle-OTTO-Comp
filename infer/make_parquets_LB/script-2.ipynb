{
 "cells": [
  {
   "cell_type": "code",
   "execution_count": null,
   "id": "18d80b30",
   "metadata": {},
   "outputs": [],
   "source": []
  },
  {
   "cell_type": "code",
   "execution_count": null,
   "id": "ce853ae3",
   "metadata": {},
   "outputs": [],
   "source": [
    "%reset -f\n",
    "%run Make-175-A.ipynb"
   ]
  },
  {
   "cell_type": "code",
   "execution_count": null,
   "id": "6b17d446",
   "metadata": {},
   "outputs": [],
   "source": [
    "%reset -f\n",
    "%run Make-175-A-Copy1.ipynb"
   ]
  },
  {
   "cell_type": "code",
   "execution_count": null,
   "id": "054ecc0e",
   "metadata": {},
   "outputs": [],
   "source": [
    "%reset -f\n",
    "%run Make-175-A-Copy2.ipynb"
   ]
  },
  {
   "cell_type": "code",
   "execution_count": null,
   "id": "ce346d54",
   "metadata": {},
   "outputs": [],
   "source": [
    "%reset -f\n",
    "%run Make-175-A-Copy3.ipynb"
   ]
  },
  {
   "cell_type": "code",
   "execution_count": null,
   "id": "727d4a32",
   "metadata": {},
   "outputs": [],
   "source": []
  },
  {
   "cell_type": "code",
   "execution_count": null,
   "id": "52bfdcac",
   "metadata": {},
   "outputs": [],
   "source": [
    "%reset -f\n",
    "%run Make-175-B.ipynb"
   ]
  },
  {
   "cell_type": "code",
   "execution_count": null,
   "id": "a638178a",
   "metadata": {},
   "outputs": [],
   "source": [
    "%reset -f\n",
    "%run Make-175-B-Copy1.ipynb"
   ]
  },
  {
   "cell_type": "code",
   "execution_count": null,
   "id": "c9cf09a8",
   "metadata": {},
   "outputs": [],
   "source": [
    "%reset -f\n",
    "%run Make-175-B-Copy2.ipynb"
   ]
  },
  {
   "cell_type": "code",
   "execution_count": null,
   "id": "a92cbd2a",
   "metadata": {},
   "outputs": [],
   "source": [
    "%reset -f\n",
    "%run Make-175-B-Copy3.ipynb"
   ]
  },
  {
   "cell_type": "code",
   "execution_count": null,
   "id": "de2d3e84",
   "metadata": {},
   "outputs": [],
   "source": []
  },
  {
   "cell_type": "code",
   "execution_count": null,
   "id": "1eb6b6ff",
   "metadata": {},
   "outputs": [],
   "source": [
    "%reset -f\n",
    "%run Make-175-C.ipynb"
   ]
  },
  {
   "cell_type": "code",
   "execution_count": null,
   "id": "c3ee2c1c",
   "metadata": {},
   "outputs": [],
   "source": [
    "%reset -f\n",
    "%run Make-175-C-Copy1.ipynb"
   ]
  },
  {
   "cell_type": "code",
   "execution_count": null,
   "id": "760fe6b3",
   "metadata": {},
   "outputs": [],
   "source": [
    "%reset -f\n",
    "%run Make-175-C-Copy2.ipynb"
   ]
  },
  {
   "cell_type": "code",
   "execution_count": null,
   "id": "8fd1352d",
   "metadata": {},
   "outputs": [],
   "source": [
    "%reset -f\n",
    "%run Make-175-C-Copy3.ipynb"
   ]
  },
  {
   "cell_type": "code",
   "execution_count": null,
   "id": "30ebb687",
   "metadata": {},
   "outputs": [],
   "source": []
  },
  {
   "cell_type": "code",
   "execution_count": null,
   "id": "9e300974",
   "metadata": {},
   "outputs": [],
   "source": [
    "%reset -f\n",
    "%run Make-175-D.ipynb"
   ]
  },
  {
   "cell_type": "code",
   "execution_count": null,
   "id": "12954dbf",
   "metadata": {},
   "outputs": [],
   "source": [
    "%reset -f\n",
    "%run Make-175-D-Copy1.ipynb"
   ]
  },
  {
   "cell_type": "code",
   "execution_count": null,
   "id": "49806dc0",
   "metadata": {},
   "outputs": [],
   "source": [
    "%reset -f\n",
    "%run Make-175-D-Copy2.ipynb"
   ]
  },
  {
   "cell_type": "code",
   "execution_count": null,
   "id": "170cc7ae",
   "metadata": {},
   "outputs": [],
   "source": [
    "%reset -f\n",
    "%run Make-175-D-Copy3.ipynb"
   ]
  },
  {
   "cell_type": "code",
   "execution_count": null,
   "id": "74dc4c7b",
   "metadata": {},
   "outputs": [],
   "source": []
  },
  {
   "cell_type": "code",
   "execution_count": null,
   "id": "90b4dc10",
   "metadata": {},
   "outputs": [],
   "source": [
    "%reset -f\n",
    "%run Make-175-E.ipynb"
   ]
  },
  {
   "cell_type": "code",
   "execution_count": null,
   "id": "89cf8480",
   "metadata": {},
   "outputs": [],
   "source": [
    "%reset -f\n",
    "%run Make-175-E-Copy1.ipynb"
   ]
  },
  {
   "cell_type": "code",
   "execution_count": null,
   "id": "f77dbed5",
   "metadata": {},
   "outputs": [],
   "source": [
    "%reset -f\n",
    "%run Make-175-E-Copy2.ipynb"
   ]
  },
  {
   "cell_type": "code",
   "execution_count": null,
   "id": "a6890f48",
   "metadata": {},
   "outputs": [],
   "source": [
    "%reset -f\n",
    "%run Make-175-E-Copy3.ipynb"
   ]
  },
  {
   "cell_type": "code",
   "execution_count": null,
   "id": "a40f0c6d",
   "metadata": {},
   "outputs": [],
   "source": []
  },
  {
   "cell_type": "code",
   "execution_count": null,
   "id": "07e5229e",
   "metadata": {},
   "outputs": [],
   "source": [
    "%reset -f\n",
    "%run Make-175-F.ipynb"
   ]
  },
  {
   "cell_type": "code",
   "execution_count": null,
   "id": "6eca76ff",
   "metadata": {},
   "outputs": [],
   "source": [
    "%reset -f\n",
    "%run Make-175-F-Copy1.ipynb"
   ]
  },
  {
   "cell_type": "code",
   "execution_count": null,
   "id": "5ec89c46",
   "metadata": {},
   "outputs": [],
   "source": [
    "%reset -f\n",
    "%run Make-175-F-Copy2.ipynb"
   ]
  },
  {
   "cell_type": "code",
   "execution_count": null,
   "id": "363acd39",
   "metadata": {},
   "outputs": [],
   "source": [
    "%reset -f\n",
    "%run Make-175-F-Copy3.ipynb"
   ]
  },
  {
   "cell_type": "code",
   "execution_count": null,
   "id": "2547ef6c",
   "metadata": {},
   "outputs": [],
   "source": []
  },
  {
   "cell_type": "code",
   "execution_count": null,
   "id": "077e7c78",
   "metadata": {},
   "outputs": [],
   "source": [
    "%reset -f\n",
    "%run Make-175-G.ipynb"
   ]
  },
  {
   "cell_type": "code",
   "execution_count": null,
   "id": "3193ea09",
   "metadata": {},
   "outputs": [],
   "source": [
    "%reset -f\n",
    "%run Make-175-G-Copy1.ipynb"
   ]
  },
  {
   "cell_type": "code",
   "execution_count": null,
   "id": "b2b9cfc5",
   "metadata": {},
   "outputs": [],
   "source": [
    "%reset -f\n",
    "%run Make-175-G-Copy2.ipynb"
   ]
  },
  {
   "cell_type": "code",
   "execution_count": null,
   "id": "6c0afd27",
   "metadata": {},
   "outputs": [],
   "source": [
    "%reset -f\n",
    "%run Make-175-G-Copy3.ipynb"
   ]
  },
  {
   "cell_type": "code",
   "execution_count": null,
   "id": "a363e247",
   "metadata": {},
   "outputs": [],
   "source": []
  }
 ],
 "metadata": {
  "kernelspec": {
   "display_name": "Python 3 (ipykernel)",
   "language": "python",
   "name": "python3"
  },
  "language_info": {
   "codemirror_mode": {
    "name": "ipython",
    "version": 3
   },
   "file_extension": ".py",
   "mimetype": "text/x-python",
   "name": "python",
   "nbconvert_exporter": "python",
   "pygments_lexer": "ipython3",
   "version": "3.8.13"
  }
 },
 "nbformat": 4,
 "nbformat_minor": 5
}
